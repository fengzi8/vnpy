{
 "cells": [
  {
   "cell_type": "code",
   "execution_count": 2,
   "metadata": {},
   "outputs": [],
   "source": [
    "import talib as ta\n",
    "import numpy as np\n",
    "import matplotlib.pyplot as plt\n",
    "import datetime\n",
    "import yfinance as yf\n",
    "import pandas as pd"
   ]
  },
  {
   "cell_type": "code",
   "execution_count": 3,
   "metadata": {},
   "outputs": [],
   "source": [
    "power = yf.Ticker(\"POWERGRID.NS\")\n",
    "df = power.history(start = '2020-01-01',end = '2020-9-4')"
   ]
  },
  {
   "cell_type": "code",
   "execution_count": 3,
   "metadata": {},
   "outputs": [
    {
     "data": {
      "text/html": [
       "<div>\n",
       "<style scoped>\n",
       "    .dataframe tbody tr th:only-of-type {\n",
       "        vertical-align: middle;\n",
       "    }\n",
       "\n",
       "    .dataframe tbody tr th {\n",
       "        vertical-align: top;\n",
       "    }\n",
       "\n",
       "    .dataframe thead th {\n",
       "        text-align: right;\n",
       "    }\n",
       "</style>\n",
       "<table border=\"1\" class=\"dataframe\">\n",
       "  <thead>\n",
       "    <tr style=\"text-align: right;\">\n",
       "      <th></th>\n",
       "      <th>Open</th>\n",
       "      <th>High</th>\n",
       "      <th>Low</th>\n",
       "      <th>Close</th>\n",
       "      <th>Volume</th>\n",
       "      <th>Dividends</th>\n",
       "      <th>Stock Splits</th>\n",
       "    </tr>\n",
       "    <tr>\n",
       "      <th>Date</th>\n",
       "      <th></th>\n",
       "      <th></th>\n",
       "      <th></th>\n",
       "      <th></th>\n",
       "      <th></th>\n",
       "      <th></th>\n",
       "      <th></th>\n",
       "    </tr>\n",
       "  </thead>\n",
       "  <tbody>\n",
       "    <tr>\n",
       "      <th>2019-12-31</th>\n",
       "      <td>120.813305</td>\n",
       "      <td>122.566532</td>\n",
       "      <td>120.653921</td>\n",
       "      <td>121.291458</td>\n",
       "      <td>8930792</td>\n",
       "      <td>0.0</td>\n",
       "      <td>0</td>\n",
       "    </tr>\n",
       "    <tr>\n",
       "      <th>2020-01-01</th>\n",
       "      <td>121.482724</td>\n",
       "      <td>124.893544</td>\n",
       "      <td>121.291457</td>\n",
       "      <td>124.638527</td>\n",
       "      <td>10215280</td>\n",
       "      <td>0.0</td>\n",
       "      <td>0</td>\n",
       "    </tr>\n",
       "    <tr>\n",
       "      <th>2020-01-02</th>\n",
       "      <td>124.670409</td>\n",
       "      <td>125.403579</td>\n",
       "      <td>123.905369</td>\n",
       "      <td>124.383522</td>\n",
       "      <td>4255269</td>\n",
       "      <td>0.0</td>\n",
       "      <td>0</td>\n",
       "    </tr>\n",
       "    <tr>\n",
       "      <th>2020-01-03</th>\n",
       "      <td>123.841614</td>\n",
       "      <td>124.192265</td>\n",
       "      <td>121.929003</td>\n",
       "      <td>123.044693</td>\n",
       "      <td>5518701</td>\n",
       "      <td>0.0</td>\n",
       "      <td>0</td>\n",
       "    </tr>\n",
       "    <tr>\n",
       "      <th>2020-01-06</th>\n",
       "      <td>122.407143</td>\n",
       "      <td>123.650348</td>\n",
       "      <td>119.856995</td>\n",
       "      <td>123.108444</td>\n",
       "      <td>5516467</td>\n",
       "      <td>0.0</td>\n",
       "      <td>0</td>\n",
       "    </tr>\n",
       "  </tbody>\n",
       "</table>\n",
       "</div>"
      ],
      "text/plain": [
       "                  Open        High         Low       Close    Volume  \\\n",
       "Date                                                                   \n",
       "2019-12-31  120.813305  122.566532  120.653921  121.291458   8930792   \n",
       "2020-01-01  121.482724  124.893544  121.291457  124.638527  10215280   \n",
       "2020-01-02  124.670409  125.403579  123.905369  124.383522   4255269   \n",
       "2020-01-03  123.841614  124.192265  121.929003  123.044693   5518701   \n",
       "2020-01-06  122.407143  123.650348  119.856995  123.108444   5516467   \n",
       "\n",
       "            Dividends  Stock Splits  \n",
       "Date                                 \n",
       "2019-12-31        0.0             0  \n",
       "2020-01-01        0.0             0  \n",
       "2020-01-02        0.0             0  \n",
       "2020-01-03        0.0             0  \n",
       "2020-01-06        0.0             0  "
      ]
     },
     "execution_count": 3,
     "metadata": {},
     "output_type": "execute_result"
    }
   ],
   "source": [
    "df.head()"
   ]
  },
  {
   "cell_type": "code",
   "execution_count": 4,
   "metadata": {},
   "outputs": [
    {
     "ename": "AttributeError",
     "evalue": "module 'talib' has no attribute 'SMA'",
     "output_type": "error",
     "traceback": [
      "\u001b[0;31m---------------------------------------------------------------------------\u001b[0m",
      "\u001b[0;31mAttributeError\u001b[0m                            Traceback (most recent call last)",
      "\u001b[1;32m/Users/BenjaminZhang/Documents/SourceCode/GitHub/vnpy/examples/candle_chart/yfinace_talib.ipynb Cell 4'\u001b[0m in \u001b[0;36m<module>\u001b[0;34m\u001b[0m\n\u001b[0;32m----> <a href='vscode-notebook-cell:/Users/BenjaminZhang/Documents/SourceCode/GitHub/vnpy/examples/candle_chart/yfinace_talib.ipynb#ch0000003?line=0'>1</a>\u001b[0m df[\u001b[39m'\u001b[39m\u001b[39mMA\u001b[39m\u001b[39m'\u001b[39m] \u001b[39m=\u001b[39m ta\u001b[39m.\u001b[39;49mSMA(df[\u001b[39m'\u001b[39m\u001b[39mClose\u001b[39m\u001b[39m'\u001b[39m],\u001b[39m20\u001b[39m)\n\u001b[1;32m      <a href='vscode-notebook-cell:/Users/BenjaminZhang/Documents/SourceCode/GitHub/vnpy/examples/candle_chart/yfinace_talib.ipynb#ch0000003?line=1'>2</a>\u001b[0m df[[\u001b[39m'\u001b[39m\u001b[39mClose\u001b[39m\u001b[39m'\u001b[39m,\u001b[39m'\u001b[39m\u001b[39mMA\u001b[39m\u001b[39m'\u001b[39m]]\u001b[39m.\u001b[39mplot(figsize\u001b[39m=\u001b[39m(\u001b[39m12\u001b[39m,\u001b[39m12\u001b[39m))\n\u001b[1;32m      <a href='vscode-notebook-cell:/Users/BenjaminZhang/Documents/SourceCode/GitHub/vnpy/examples/candle_chart/yfinace_talib.ipynb#ch0000003?line=2'>3</a>\u001b[0m plt\u001b[39m.\u001b[39mshow()\n",
      "\u001b[0;31mAttributeError\u001b[0m: module 'talib' has no attribute 'SMA'"
     ]
    }
   ],
   "source": [
    "df['MA'] = ta.SMA(df['Close'],20)\n",
    "df[['Close','MA']].plot(figsize=(12,12))\n",
    "plt.show()"
   ]
  },
  {
   "cell_type": "code",
   "execution_count": 1,
   "metadata": {},
   "outputs": [
    {
     "ename": "NameError",
     "evalue": "name 'ta' is not defined",
     "output_type": "error",
     "traceback": [
      "\u001b[0;31m---------------------------------------------------------------------------\u001b[0m",
      "\u001b[0;31mNameError\u001b[0m                                 Traceback (most recent call last)",
      "\u001b[1;32m/Users/BenjaminZhang/Documents/SourceCode/GitHub/vnpy/examples/candle_chart/yfinace_talib.ipynb Cell 5'\u001b[0m in \u001b[0;36m<module>\u001b[0;34m\u001b[0m\n\u001b[0;32m----> <a href='vscode-notebook-cell:/Users/BenjaminZhang/Documents/SourceCode/GitHub/vnpy/examples/candle_chart/yfinace_talib.ipynb#ch0000004?line=0'>1</a>\u001b[0m df[\u001b[39m'\u001b[39m\u001b[39mavg\u001b[39m\u001b[39m'\u001b[39m] \u001b[39m=\u001b[39m ta\u001b[39m.\u001b[39mADX(df[\u001b[39m'\u001b[39m\u001b[39mHigh\u001b[39m\u001b[39m'\u001b[39m],df[\u001b[39m'\u001b[39m\u001b[39mLow\u001b[39m\u001b[39m'\u001b[39m],df[\u001b[39m'\u001b[39m\u001b[39mClose\u001b[39m\u001b[39m'\u001b[39m])\n\u001b[1;32m      <a href='vscode-notebook-cell:/Users/BenjaminZhang/Documents/SourceCode/GitHub/vnpy/examples/candle_chart/yfinace_talib.ipynb#ch0000004?line=1'>2</a>\u001b[0m df[[\u001b[39m'\u001b[39m\u001b[39mavg\u001b[39m\u001b[39m'\u001b[39m]]\u001b[39m.\u001b[39mplot(figsize\u001b[39m=\u001b[39m(\u001b[39m12\u001b[39m,\u001b[39m10\u001b[39m))\n",
      "\u001b[0;31mNameError\u001b[0m: name 'ta' is not defined"
     ]
    }
   ],
   "source": [
    "df['avg'] = ta.ADX(df['High'],df['Low'],df['Close'])\n",
    "df[['avg']].plot(figsize=(12,10))"
   ]
  }
 ],
 "metadata": {
  "interpreter": {
   "hash": "b0fa6594d8f4cbf19f97940f81e996739fb7646882a419484c72d19e05852a7e"
  },
  "kernelspec": {
   "display_name": "Python 3.9.10 64-bit",
   "language": "python",
   "name": "python3"
  },
  "language_info": {
   "codemirror_mode": {
    "name": "ipython",
    "version": 3
   },
   "file_extension": ".py",
   "mimetype": "text/x-python",
   "name": "python",
   "nbconvert_exporter": "python",
   "pygments_lexer": "ipython3",
   "version": "3.9.10"
  },
  "orig_nbformat": 4
 },
 "nbformat": 4,
 "nbformat_minor": 2
}
